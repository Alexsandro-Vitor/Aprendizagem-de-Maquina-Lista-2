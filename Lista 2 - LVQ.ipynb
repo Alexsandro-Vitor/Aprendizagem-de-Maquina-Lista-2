{
 "cells": [
  {
   "cell_type": "markdown",
   "metadata": {},
   "source": [
    "# Código Learning Vector Quantization"
   ]
  },
  {
   "cell_type": "markdown",
   "metadata": {},
   "source": [
    "## Imports"
   ]
  },
  {
   "cell_type": "code",
   "execution_count": 1,
   "metadata": {},
   "outputs": [],
   "source": [
    "from sklearn.neighbors import KNeighborsClassifier\n",
    "import numpy as np\n",
    "import random"
   ]
  },
  {
   "cell_type": "markdown",
   "metadata": {},
   "source": [
    "## Funções de Suporte"
   ]
  },
  {
   "cell_type": "code",
   "execution_count": 2,
   "metadata": {},
   "outputs": [
    {
     "name": "stdout",
     "output_type": "stream",
     "text": [
      "{0: [[1, 0], [2, 0]], 1: [[1, 1]], 2: [[2, 2]]}\n"
     ]
    },
    {
     "data": {
      "text/plain": [
       "[[1, 0], [1, 1], [2, 2], [2, 0]]"
      ]
     },
     "execution_count": 2,
     "metadata": {},
     "output_type": "execute_result"
    }
   ],
   "source": [
    "def sample_prototypes(dataset, n_prototypes = 2):\n",
    "    '''Choose a number of samples from the dataset to use as prototypes. Will keep at least one sample of every class.'''\n",
    "    classes = {x[-1]: [a for a in dataset if a[-1] == x[-1]] for x in dataset}\n",
    "    print(classes)\n",
    "        \n",
    "    if (n_prototypes < len(classes)):\n",
    "        print(\"There aren't prototypes enough for all classes\")\n",
    "    elif (n_prototypes > len(dataset)):\n",
    "        print(\"There aren't samples enough for this amount of prototypes\")\n",
    "    else:\n",
    "        prototypes = [random.choice(classes[x]) for x in classes]\n",
    "        if (n_prototypes > len(classes)):\n",
    "            still_not_chosen = [data for data in dataset if data not in prototypes]\n",
    "            prototypes.extend(random.sample(still_not_chosen, n_prototypes - len(classes)))\n",
    "        return prototypes\n",
    "\n",
    "sample_prototypes([[1, 0],[1, 1],[2, 2],[2, 0]], 4)"
   ]
  },
  {
   "cell_type": "code",
   "execution_count": 19,
   "metadata": {},
   "outputs": [],
   "source": [
    "def calculate_test_results(real, predicted):\n",
    "    matched = [a == b for (a, b) in zip(real, predicted)]\n",
    "    recalls = {i: list(zip(real, matched)).count((i, True)) / real.count(i) for i in real}\n",
    "    return {\n",
    "        \"precision\": matched.count(True) / len(real),\n",
    "        \"recalls\": recalls\n",
    "    }"
   ]
  },
  {
   "cell_type": "markdown",
   "metadata": {},
   "source": [
    "## Código do LVQ1"
   ]
  },
  {
   "cell_type": "code",
   "execution_count": 26,
   "metadata": {},
   "outputs": [],
   "source": [
    "class LVQ1:\n",
    "    def __init__(self, k = 1, n_prototypes = 2, alpha_0 = 0.8):\n",
    "        self.knn = KNeighborsClassifier(n_neighbors = k)\n",
    "        self.n_prototypes = n_prototypes\n",
    "        self.alpha_0 = alpha_0\n",
    "    \n",
    "    def adjust_prototype(self, prototype_index, alpha, sample):\n",
    "        prototype = self.samples[prototype_index]\n",
    "        if (self.labels[prototype_index] == sample[-1]):\n",
    "            self.samples[prototype_index] = prototype + (sample[0:-1] - prototype) * alpha\n",
    "        else:\n",
    "            self.samples[prototype_index] = prototype - (sample[0:-1] - prototype) * alpha\n",
    "        print(prototype_index)\n",
    "        print(self.samples[prototype_index])\n",
    "    \n",
    "    def train(self, training):\n",
    "        prototypes = sample_prototypes(training, self.n_prototypes)\n",
    "        print(prototypes)\n",
    "        self.samples = [sample[0:-1] for sample in prototypes]\n",
    "        self.labels = [sample[-1] for sample in prototypes]\n",
    "        \n",
    "        alpha_t = self.alpha_0\n",
    "        for sample in training:\n",
    "            self.knn.fit(self.samples, self.labels)\n",
    "            (_, closest) = self.knn.kneighbors([sample[0:-1]])\n",
    "            [self.adjust_prototype(prototype_index, alpha_t, sample) for prototype_index in closest[0]]\n",
    "            alpha_t *= self.alpha_0\n",
    "        \n",
    "        self.knn.fit(self.samples, self.labels)\n",
    "    \n",
    "    def predict(self, sample):\n",
    "        return self.knn.predict(sample)\n",
    "    \n",
    "    def test(self, testing):\n",
    "        samples = [sample[0:-1] for sample in testing]\n",
    "        labels = [sample[-1] for sample in testing]\n",
    "        print(labels)\n",
    "        predicted_labels = self.predict(samples)\n",
    "        print(predicted_labels)\n",
    "        result = calculate_test_results(labels, predicted_labels)\n",
    "        return result"
   ]
  },
  {
   "cell_type": "code",
   "execution_count": 27,
   "metadata": {},
   "outputs": [
    {
     "name": "stdout",
     "output_type": "stream",
     "text": [
      "{0: [array([1, 0, 0]), array([2, 1, 0])], 1: [array([1, 1, 1])], 2: [array([2, 0, 2])]}\n",
      "[array([1, 0, 0]), array([1, 1, 1]), array([2, 0, 2])]\n",
      "0\n",
      "[1. 0.]\n",
      "1\n",
      "[1. 1.]\n",
      "2\n",
      "[2. 0.]\n",
      "1\n",
      "[0.5904 1.    ]\n",
      "[1, 0]\n",
      "[1 0]\n"
     ]
    },
    {
     "data": {
      "text/plain": [
       "{'precision': 1.0, 'recalls': {1: 1.0, 0: 1.0}}"
      ]
     },
     "execution_count": 27,
     "metadata": {},
     "output_type": "execute_result"
    }
   ],
   "source": [
    "lvq1 = LVQ1(n_prototypes=3)\n",
    "lvq1.train(np.array([[1,0,0], [1,1,1], [2,0,2], [2,1,0]]))\n",
    "lvq1.test([[0, 1, 1], [1, 0.2, 0]])"
   ]
  },
  {
   "cell_type": "markdown",
   "metadata": {},
   "source": [
    "## Código do LVQ2.1"
   ]
  },
  {
   "cell_type": "code",
   "execution_count": 4,
   "metadata": {},
   "outputs": [],
   "source": [
    "class LVQ2:\n",
    "    def __init__(self, k = 1, nPrototypes = 2):\n",
    "        self.knn = NearestNeighbors(n_neighbors = k)\n",
    "        self.nPrototypes = nPrototypes"
   ]
  },
  {
   "cell_type": "markdown",
   "metadata": {},
   "source": [
    "## Código do LVQ3"
   ]
  },
  {
   "cell_type": "code",
   "execution_count": 5,
   "metadata": {},
   "outputs": [],
   "source": [
    "class LVQ3:\n",
    "    def __init__(self, k = 1, nPrototypes = 2):\n",
    "        self.knn = NearestNeighbors(n_neighbors = k)\n",
    "        self.nPrototypes = nPrototypes"
   ]
  },
  {
   "cell_type": "markdown",
   "metadata": {},
   "source": [
    "# Avaliações"
   ]
  },
  {
   "cell_type": "markdown",
   "metadata": {},
   "source": [
    "## Imports"
   ]
  },
  {
   "cell_type": "code",
   "execution_count": 28,
   "metadata": {},
   "outputs": [],
   "source": [
    "%matplotlib inline\n",
    "\n",
    "from scipy.io import arff\n",
    "import pandas as pd\n",
    "from time import process_time\n",
    "\n",
    "import matplotlib\n",
    "import matplotlib.pyplot as plt"
   ]
  },
  {
   "cell_type": "markdown",
   "metadata": {},
   "source": [
    "## Base de Dados 1 - CM1"
   ]
  },
  {
   "cell_type": "markdown",
   "metadata": {},
   "source": [
    "### Preparação"
   ]
  },
  {
   "cell_type": "code",
   "execution_count": null,
   "metadata": {},
   "outputs": [],
   "source": [
    "data = arff.loadarff('Datasets/cm1.arff')\n",
    "dataFrame = pd.DataFrame(data[0])\n",
    "dataFrame.defects = [1 if i == b'true' else 0 for i in dataFrame.defects]\n",
    "rawData = dataFrame.values\n",
    "rawData"
   ]
  },
  {
   "cell_type": "markdown",
   "metadata": {},
   "source": [
    "## Base de Dados 2 - "
   ]
  },
  {
   "cell_type": "code",
   "execution_count": null,
   "metadata": {},
   "outputs": [],
   "source": []
  },
  {
   "cell_type": "code",
   "execution_count": null,
   "metadata": {},
   "outputs": [],
   "source": []
  }
 ],
 "metadata": {
  "kernelspec": {
   "display_name": "redesNeurais",
   "language": "python",
   "name": "redesneurais"
  },
  "language_info": {
   "codemirror_mode": {
    "name": "ipython",
    "version": 3
   },
   "file_extension": ".py",
   "mimetype": "text/x-python",
   "name": "python",
   "nbconvert_exporter": "python",
   "pygments_lexer": "ipython3",
   "version": "3.6.8"
  }
 },
 "nbformat": 4,
 "nbformat_minor": 2
}
