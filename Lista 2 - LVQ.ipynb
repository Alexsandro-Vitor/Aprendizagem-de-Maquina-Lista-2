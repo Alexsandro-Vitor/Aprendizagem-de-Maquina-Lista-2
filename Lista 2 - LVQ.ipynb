{
 "cells": [
  {
   "cell_type": "markdown",
   "metadata": {},
   "source": [
    "# Código Learning Vector Quantization"
   ]
  },
  {
   "cell_type": "markdown",
   "metadata": {},
   "source": [
    "## Imports"
   ]
  },
  {
   "cell_type": "code",
   "execution_count": 1,
   "metadata": {},
   "outputs": [],
   "source": [
    "from sklearn.neighbors import NearestNeighbors\n",
    "import numpy as np\n",
    "import random"
   ]
  },
  {
   "cell_type": "markdown",
   "metadata": {},
   "source": [
    "## Código do LVQ1"
   ]
  },
  {
   "cell_type": "code",
   "execution_count": 2,
   "metadata": {},
   "outputs": [],
   "source": [
    "class LVQ1:\n",
    "    def __init__(self, k = 1, n_prototypes = 2):\n",
    "        self.knn = NearestNeighbors(n_neighbors = k)\n",
    "        self.n_prototypes = n_prototypes\n",
    "    \n",
    "    def train(self, training):\n",
    "        classes = {x[-1]: [a for a in training if a[-1] == x[-1]] for x in training}\n",
    "        print(classes)\n",
    "        \n",
    "        if (self.n_prototypes < len(classes)):\n",
    "            print(\"There aren't prototypes enough for all classes\")\n",
    "        elif (self.n_prototypes > len(training)):\n",
    "            print(\"There aren't samples enough for this amount of prototypes\")\n",
    "        else:\n",
    "            prototypes = [random.choice(classes[x]) for x in classes]\n",
    "            if (self.n_prototypes > len(classes)):\n",
    "                prototypes.concatenate(random.sample(training, self.n_prototypes - len(classes)))\n",
    "\n",
    "            self.knn.fit(prototypes)\n",
    "            return prototypes\n",
    "    \n",
    "    def classify(self, sample):\n",
    "        return self.knn.kneighbors(sample)"
   ]
  },
  {
   "cell_type": "code",
   "execution_count": 3,
   "metadata": {},
   "outputs": [
    {
     "name": "stdout",
     "output_type": "stream",
     "text": [
      "{0: [[1, 0], [2, 0]], 1: [[1, 1]], 2: [[2, 2]]}\n"
     ]
    },
    {
     "data": {
      "text/plain": [
       "[[2, 0], [1, 1], [2, 2]]"
      ]
     },
     "execution_count": 3,
     "metadata": {},
     "output_type": "execute_result"
    }
   ],
   "source": [
    "lvq1 = LVQ1(n_prototypes=3)\n",
    "lvq1.train([[1, 0],[1, 1],[2, 2],[2, 0]])"
   ]
  },
  {
   "cell_type": "markdown",
   "metadata": {},
   "source": [
    "## Código do LVQ2.1"
   ]
  },
  {
   "cell_type": "code",
   "execution_count": 4,
   "metadata": {},
   "outputs": [],
   "source": [
    "class LVQ2:\n",
    "    def __init__(self, k = 1, nPrototypes = 2):\n",
    "        self.knn = NearestNeighbors(n_neighbors = k)\n",
    "        self.nPrototypes = nPrototypes"
   ]
  },
  {
   "cell_type": "markdown",
   "metadata": {},
   "source": [
    "## Código do LVQ3"
   ]
  },
  {
   "cell_type": "code",
   "execution_count": 5,
   "metadata": {},
   "outputs": [],
   "source": [
    "class LVQ3:\n",
    "    def __init__(self, k = 1, nPrototypes = 2):\n",
    "        self.knn = NearestNeighbors(n_neighbors = k)\n",
    "        self.nPrototypes = nPrototypes"
   ]
  },
  {
   "cell_type": "markdown",
   "metadata": {},
   "source": [
    "# Avaliações"
   ]
  },
  {
   "cell_type": "markdown",
   "metadata": {},
   "source": [
    "## Imports"
   ]
  },
  {
   "cell_type": "code",
   "execution_count": null,
   "metadata": {},
   "outputs": [],
   "source": []
  },
  {
   "cell_type": "markdown",
   "metadata": {},
   "source": [
    "## Base de Dados 1 - "
   ]
  },
  {
   "cell_type": "code",
   "execution_count": null,
   "metadata": {},
   "outputs": [],
   "source": []
  },
  {
   "cell_type": "markdown",
   "metadata": {},
   "source": [
    "## Base de Dados 2 - "
   ]
  },
  {
   "cell_type": "code",
   "execution_count": null,
   "metadata": {},
   "outputs": [],
   "source": []
  },
  {
   "cell_type": "code",
   "execution_count": null,
   "metadata": {},
   "outputs": [],
   "source": []
  }
 ],
 "metadata": {
  "kernelspec": {
   "display_name": "redesNeurais",
   "language": "python",
   "name": "redesneurais"
  },
  "language_info": {
   "codemirror_mode": {
    "name": "ipython",
    "version": 3
   },
   "file_extension": ".py",
   "mimetype": "text/x-python",
   "name": "python",
   "nbconvert_exporter": "python",
   "pygments_lexer": "ipython3",
   "version": "3.6.6"
  }
 },
 "nbformat": 4,
 "nbformat_minor": 2
}
